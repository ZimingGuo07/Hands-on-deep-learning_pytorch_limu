{
 "cells": [
  {
   "cell_type": "code",
   "execution_count": 1,
   "metadata": {},
   "outputs": [
    {
     "name": "stdout",
     "output_type": "stream",
     "text": [
      "1.自动梯度计算\n",
      "x: tensor([0., 1., 2., 3.], requires_grad=True)\n",
      "x.grad: None\n",
      "y: tensor(28., grad_fn=<MulBackward0>)\n",
      "x.grad: tensor([ 0.,  4.,  8., 12.])\n",
      "x.grad == 4*x: tensor([True, True, True, True])\n",
      "y: tensor(6., grad_fn=<SumBackward0>)\n",
      "x.grad: tensor([1., 1., 1., 1.])\n",
      "x: tensor([0., 1., 2., 3.], requires_grad=True)\n",
      "x.grad: tensor([0., 2., 4., 6.])\n",
      "2.Python控制流的梯度计算\n",
      "a: tensor(2., requires_grad=True)\n",
      "tensor(4., grad_fn=<CopyBackwards>)\n",
      "d: tensor(1024., grad_fn=<MulBackward0>)\n",
      "a.grad: tensor(512.)\n"
     ]
    }
   ],
   "source": [
    "'''\n",
    "计算图\n",
    "链式法则\n",
    "正向传播、反向传播（手推计算）\n",
    "'''\n",
    "import torch\n",
    "\n",
    "print('1.自动梯度计算')\n",
    "x = torch.arange(4.0, requires_grad=True)  # 1.将梯度附加到想要对其计算偏导数的变量\n",
    "print('x:', x)\n",
    "print('x.grad:', x.grad)\n",
    "y = 2 * torch.dot(x, x)  # 2.记录目标值的计算\n",
    "print('y:', y)\n",
    "y.backward()  # 3.执行它的反向传播函数\n",
    "print('x.grad:', x.grad)  # 4.访问得到的梯度\n",
    "print('x.grad == 4*x:', x.grad == 4 * x)\n",
    "\n",
    "## 计算另一个函数\n",
    "x.grad.zero_()\n",
    "y = x.sum()\n",
    "print('y:', y)\n",
    "y.backward()\n",
    "print('x.grad:', x.grad)\n",
    "\n",
    "# 非标量变量的反向传播\n",
    "x.grad.zero_()\n",
    "print('x:', x)\n",
    "y = x * x\n",
    "y.sum().backward()\n",
    "print('x.grad:', x.grad)\n",
    "\n",
    "\n",
    "def f(a):\n",
    "    b = a * 2\n",
    "    print(b.norm())\n",
    "    while b.norm() < 1000:  # 求L2范数：元素平方和的平方根\n",
    "        b = b * 2\n",
    "    if b.sum() > 0:\n",
    "        c = b\n",
    "    else:\n",
    "        c = 100 * b\n",
    "    return c\n",
    "\n",
    "\n",
    "print('2.Python控制流的梯度计算')\n",
    "a = torch.tensor(2.0)  # 初始化变量\n",
    "a.requires_grad_(True)  # 1.将梯度赋给想要对其求偏导数的变量\n",
    "print('a:', a)\n",
    "d = f(a)  # 2.记录目标函数\n",
    "print('d:', d)\n",
    "d.backward()  # 3.执行目标函数的反向传播函数\n",
    "print('a.grad:', a.grad)  # 4.获取梯度"
   ]
  },
  {
   "cell_type": "markdown",
   "metadata": {},
   "source": []
  }
 ],
 "metadata": {
  "kernelspec": {
   "display_name": "Python 3.9.10 64-bit",
   "language": "python",
   "name": "python3"
  },
  "language_info": {
   "codemirror_mode": {
    "name": "ipython",
    "version": 3
   },
   "file_extension": ".py",
   "mimetype": "text/x-python",
   "name": "python",
   "nbconvert_exporter": "python",
   "pygments_lexer": "ipython3",
   "version": "3.9.10"
  },
  "orig_nbformat": 4,
  "vscode": {
   "interpreter": {
    "hash": "78fc45657d17e5ae40105ec575be94d3851fcfd0a2ad7fcbb61c064bd85d2aa1"
   }
  }
 },
 "nbformat": 4,
 "nbformat_minor": 2
}
